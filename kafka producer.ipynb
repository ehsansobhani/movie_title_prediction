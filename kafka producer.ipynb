{
 "cells": [
  {
   "cell_type": "code",
   "execution_count": 2,
   "id": "4aed5f8c",
   "metadata": {},
   "outputs": [
    {
     "name": "stdout",
     "output_type": "stream",
     "text": [
      "Requirement already satisfied: kafka-python in e:\\users\\14165\\anaconda3\\lib\\site-packages (2.0.2)\n"
     ]
    }
   ],
   "source": [
    "!pip install kafka-python"
   ]
  },
  {
   "cell_type": "code",
   "execution_count": 3,
   "id": "6aa7c2ae",
   "metadata": {},
   "outputs": [
    {
     "name": "stdout",
     "output_type": "stream",
     "text": [
      "Collecting package metadata (current_repodata.json): ...working... done\n",
      "Solving environment: ...working... unsuccessful initial attempt using frozen solve. Retrying with flexible solve.\n",
      "Collecting package metadata (repodata.json): ...working... done\n",
      "Solving environment: ...working... unsuccessful initial attempt using frozen solve. Retrying with flexible solve.\n",
      "\n",
      "Note: you may need to restart the kernel to use updated packages.\n"
     ]
    },
    {
     "name": "stderr",
     "output_type": "stream",
     "text": [
      "\n",
      "PackagesNotFoundError: The following packages are not available from current channels:\n",
      "\n",
      "  - c\n",
      "  - kafka-python\n",
      "  - conda-forge\n",
      "\n",
      "Current channels:\n",
      "\n",
      "  - https://repo.anaconda.com/pkgs/main/win-64\n",
      "  - https://repo.anaconda.com/pkgs/main/noarch\n",
      "  - https://repo.anaconda.com/pkgs/r/win-64\n",
      "  - https://repo.anaconda.com/pkgs/r/noarch\n",
      "  - https://repo.anaconda.com/pkgs/msys2/win-64\n",
      "  - https://repo.anaconda.com/pkgs/msys2/noarch\n",
      "\n",
      "To search for alternate channels that may provide the conda package you're\n",
      "looking for, navigate to\n",
      "\n",
      "    https://anaconda.org\n",
      "\n",
      "and use the search bar at the top of the page.\n",
      "\n",
      "\n"
     ]
    }
   ],
   "source": [
    "# %conda install c conda-forge kafka-python"
   ]
  },
  {
   "cell_type": "code",
   "execution_count": 7,
   "id": "5a24f646",
   "metadata": {},
   "outputs": [],
   "source": [
    "from kafka import KafkaProducer\n",
    "from time import sleep\n",
    "import json\n",
    "from datetime import datetime\n",
    "from kafka import KafkaConsumer\n",
    "from json import loads\n",
    "import tkinter as tk"
   ]
  },
  {
   "cell_type": "code",
   "execution_count": 8,
   "id": "de6e381d",
   "metadata": {},
   "outputs": [],
   "source": [
    "producer = KafkaProducer(bootstrap_servers=['localhost:9092'])"
   ]
  },
  {
   "cell_type": "code",
   "execution_count": 9,
   "id": "f4c467e2",
   "metadata": {},
   "outputs": [],
   "source": [
    "# def send_message():\n",
    "#     message = text_entry.get(\"1.0\", \"end-1c\")  # Get text from text entry field\n",
    "#     producer.send('Ehsan', message.encode('utf-8'))  # Send message to Kafka\n",
    "#     text_entry.delete(\"1.0\", tk.END)  # Clear text entry field\n"
   ]
  },
  {
   "cell_type": "code",
   "execution_count": 10,
   "id": "5b72b410",
   "metadata": {},
   "outputs": [],
   "source": [
    "# producer.send('Ehsan', b'ghghcgjjcgjjgjvgvgvgjcvgjv')"
   ]
  },
  {
   "cell_type": "code",
   "execution_count": 11,
   "id": "0110c1a1",
   "metadata": {},
   "outputs": [],
   "source": [
    "# consumer = KafkaConsumer('Ehsan',bootstrap_servers=['localhost:9092'])"
   ]
  },
  {
   "cell_type": "code",
   "execution_count": 12,
   "id": "c33537a7",
   "metadata": {},
   "outputs": [],
   "source": [
    "# for message in consumer:\n",
    "#     print(message)"
   ]
  },
  {
   "cell_type": "code",
   "execution_count": 13,
   "id": "4850380f",
   "metadata": {},
   "outputs": [],
   "source": [
    "# # Create a GUI window\n",
    "# window = tk.Tk()\n",
    "# window.title(\"Input Movie Summary: \")\n",
    "\n",
    "# # Create a text entry field\n",
    "# text_entry = tk.Text(window, height=10, width=50)\n",
    "# text_entry.pack()\n",
    "\n",
    "# # Create a send button\n",
    "# send_button = tk.Button(window, text=\"Send\", command=send_message)\n",
    "# send_button.pack()\n",
    "\n",
    "# # Run the GUI\n",
    "# window.mainloop()"
   ]
  },
  {
   "cell_type": "code",
   "execution_count": 14,
   "id": "e170961d",
   "metadata": {},
   "outputs": [],
   "source": [
    "# Create an instance of the KafkaProducer\n",
    "# producer = KafkaProducer(bootstrap_servers='localhost:9092')\n",
    "\n",
    "def send_message():\n",
    "    # Get text from entry fields\n",
    "    title = title_entry.get()\n",
    "    rating = rating_entry.get()\n",
    "    summary = summary_entry.get(\"1.0\", \"end-1c\")\n",
    "\n",
    "    # Create a dictionary and convert it to a JSON string\n",
    "    movie = {\"title\": title, \"rating\": rating, \"summary\": summary}\n",
    "    movie_json = json.dumps(movie)\n",
    "\n",
    "    # Send JSON string to Kafka\n",
    "    producer.send('Ehsan', movie_json.encode('utf-8'))\n",
    "\n",
    "    # Clear entry fields\n",
    "    title_entry.delete(0, tk.END)\n",
    "    rating_entry.delete(0, tk.END)\n",
    "    summary_entry.delete(\"1.0\", tk.END)\n",
    "\n",
    "# Create a GUI window\n",
    "window = tk.Tk()\n",
    "window.title(\"Movie Info Sender\")\n",
    "\n",
    "# Create entry fields for title, rating, and summary\n",
    "tk.Label(window, text=\"Title\").pack()\n",
    "title_entry = tk.Entry(window)\n",
    "title_entry.pack()\n",
    "\n",
    "tk.Label(window, text=\"Rating\").pack()\n",
    "rating_entry = tk.Entry(window)\n",
    "rating_entry.pack()\n",
    "\n",
    "tk.Label(window, text=\"Summary\").pack()\n",
    "summary_entry = tk.Text(window, height=10, width=50)\n",
    "summary_entry.pack()\n",
    "\n",
    "# Create a send button\n",
    "send_button = tk.Button(window, text=\"Send\", command=send_message)\n",
    "send_button.pack()\n",
    "\n",
    "# Run the GUI\n",
    "window.mainloop()"
   ]
  },
  {
   "cell_type": "code",
   "execution_count": null,
   "id": "37cbc181",
   "metadata": {},
   "outputs": [],
   "source": []
  }
 ],
 "metadata": {
  "kernelspec": {
   "display_name": "Python 3 (ipykernel)",
   "language": "python",
   "name": "python3"
  },
  "language_info": {
   "codemirror_mode": {
    "name": "ipython",
    "version": 3
   },
   "file_extension": ".py",
   "mimetype": "text/x-python",
   "name": "python",
   "nbconvert_exporter": "python",
   "pygments_lexer": "ipython3",
   "version": "3.11.5"
  }
 },
 "nbformat": 4,
 "nbformat_minor": 5
}
